{
  "nbformat": 4,
  "nbformat_minor": 0,
  "metadata": {
    "colab": {
      "provenance": []
    },
    "kernelspec": {
      "name": "python3",
      "display_name": "Python 3"
    },
    "language_info": {
      "name": "python"
    }
  },
  "cells": [
    {
      "cell_type": "code",
      "execution_count": null,
      "metadata": {
        "id": "6oIfjqz4X0QW",
        "colab": {
          "base_uri": "https://localhost:8080/"
        },
        "outputId": "aeaf7dd2-ec70-4fa6-bde0-b6f5d3164bb1"
      },
      "outputs": [
        {
          "output_type": "stream",
          "name": "stdout",
          "text": [
            "['ansar', 'riyas', 'thoufeeque', 1, 2, 3]\n"
          ]
        }
      ],
      "source": [
        "listA=[\"ansar\",\"riyas\",\"thoufeeque\",1,2,3]\n",
        "print(listA)"
      ]
    },
    {
      "cell_type": "code",
      "source": [
        "a=[\"apple\",\"android\",1,2,3]\n",
        "print(a)"
      ],
      "metadata": {
        "colab": {
          "base_uri": "https://localhost:8080/"
        },
        "id": "NLT9kHV0bGiU",
        "outputId": "2242dbee-363d-4c76-c584-64b48f666440"
      },
      "execution_count": null,
      "outputs": [
        {
          "output_type": "stream",
          "name": "stdout",
          "text": [
            "['apple', 'android', 1, 2, 3]\n"
          ]
        }
      ]
    },
    {
      "cell_type": "code",
      "source": [
        "lang=[\"c\",\"c++\",1,2,3]\n",
        "print('lang')"
      ],
      "metadata": {
        "colab": {
          "base_uri": "https://localhost:8080/"
        },
        "id": "g5mV8gS2bowD",
        "outputId": "0eb06661-f4a7-4ab4-82e5-5f3c742c9491"
      },
      "execution_count": null,
      "outputs": [
        {
          "output_type": "stream",
          "name": "stdout",
          "text": [
            "lang\n"
          ]
        }
      ]
    },
    {
      "cell_type": "code",
      "source": [
        "print(len(lang))"
      ],
      "metadata": {
        "colab": {
          "base_uri": "https://localhost:8080/"
        },
        "id": "gYHk4E29cUm7",
        "outputId": "8d41f77a-967e-422b-de55-06f5a381c9d2"
      },
      "execution_count": null,
      "outputs": [
        {
          "output_type": "stream",
          "name": "stdout",
          "text": [
            "5\n"
          ]
        }
      ]
    },
    {
      "cell_type": "code",
      "source": [
        "print(lang[1])"
      ],
      "metadata": {
        "colab": {
          "base_uri": "https://localhost:8080/"
        },
        "id": "kXHzY_Wwdnk9",
        "outputId": "69a186dc-b47b-47eb-d79d-633264dbacdf"
      },
      "execution_count": null,
      "outputs": [
        {
          "output_type": "stream",
          "name": "stdout",
          "text": [
            "c++\n"
          ]
        }
      ]
    },
    {
      "cell_type": "code",
      "source": [
        "\n",
        "a=[1,2,3] #first list\n",
        "b=[4,5,6] #second list\n",
        "sum= a+b\n",
        "print(sum)"
      ],
      "metadata": {
        "colab": {
          "base_uri": "https://localhost:8080/"
        },
        "id": "ck-JPtKkn-xG",
        "outputId": "19e2be88-946c-4575-bb89-d49df6e908f9"
      },
      "execution_count": null,
      "outputs": [
        {
          "output_type": "stream",
          "name": "stdout",
          "text": [
            "[1, 2, 3, 4, 5, 6]\n"
          ]
        }
      ]
    },
    {
      "cell_type": "code",
      "source": [
        "#to update\n",
        "fruits=[\"onion\",\"tomato\",\"pineapple\"]\n",
        "fruits[0]=\"bannana\"\n",
        "print(fruits)"
      ],
      "metadata": {
        "colab": {
          "base_uri": "https://localhost:8080/"
        },
        "id": "uwtu9q6dp3cY",
        "outputId": "d5d1f378-84fd-4935-89fc-ee68b55f39b8"
      },
      "execution_count": null,
      "outputs": [
        {
          "output_type": "stream",
          "name": "stdout",
          "text": [
            "['bannana', 'tomato', 'pineapple']\n"
          ]
        }
      ]
    },
    {
      "cell_type": "code",
      "source": [
        "# to update the list\n",
        "sum[2]= 10\n",
        "print(sum)"
      ],
      "metadata": {
        "colab": {
          "base_uri": "https://localhost:8080/"
        },
        "id": "V2NhiLcFqnFQ",
        "outputId": "b21f0e79-c33d-43c8-ffd9-9e99383fc201"
      },
      "execution_count": null,
      "outputs": [
        {
          "output_type": "stream",
          "name": "stdout",
          "text": [
            "[1, 2, 10, 4, 5, 6]\n"
          ]
        }
      ]
    },
    {
      "cell_type": "code",
      "source": [
        "#to append\n",
        "sum.append(200)\n",
        "print(sum)"
      ],
      "metadata": {
        "colab": {
          "base_uri": "https://localhost:8080/"
        },
        "id": "qZgZ7LUCrQZH",
        "outputId": "6544a2c8-22ef-4fc5-b4f1-4a73aa0b0b76"
      },
      "execution_count": null,
      "outputs": [
        {
          "output_type": "stream",
          "name": "stdout",
          "text": [
            "[1, 2, 10, 4, 5, 6, 200]\n"
          ]
        }
      ]
    },
    {
      "cell_type": "code",
      "source": [
        "sum.append(1245)\n",
        "print(sum)"
      ],
      "metadata": {
        "colab": {
          "base_uri": "https://localhost:8080/"
        },
        "id": "a5Ibt4ShrwJ9",
        "outputId": "9c92ee6b-093d-4986-b4d3-ad75d5178c9f"
      },
      "execution_count": null,
      "outputs": [
        {
          "output_type": "stream",
          "name": "stdout",
          "text": [
            "[1, 2, 10, 4, 5, 6, 200, 1245]\n"
          ]
        }
      ]
    },
    {
      "cell_type": "code",
      "source": [
        "#to insert a value to a particular position\n",
        "sum.insert(2,224)\n",
        "print(sum)"
      ],
      "metadata": {
        "colab": {
          "base_uri": "https://localhost:8080/"
        },
        "id": "s4KP9i1vsLJm",
        "outputId": "0f922c35-f948-4e3b-c8dd-ea4112d744c3"
      },
      "execution_count": null,
      "outputs": [
        {
          "output_type": "stream",
          "name": "stdout",
          "text": [
            "[224, 1, 224, 2, 10, 4, 5, 6, 200, 1245]\n"
          ]
        }
      ]
    },
    {
      "cell_type": "code",
      "source": [
        "sum.insert(5,154)\n",
        "print(sum)"
      ],
      "metadata": {
        "colab": {
          "base_uri": "https://localhost:8080/"
        },
        "id": "sHCtlKsHshPz",
        "outputId": "355549a3-b578-49ad-a382-79d14ec63472"
      },
      "execution_count": null,
      "outputs": [
        {
          "output_type": "stream",
          "name": "stdout",
          "text": [
            "[224, 1, 224, 2, 10, 154, 4, 5, 6, 200, 1245]\n"
          ]
        }
      ]
    },
    {
      "cell_type": "code",
      "source": [
        "# extend method\n",
        "num=[22,44,88]\n",
        "sum.extend(num)\n",
        "print(sum)"
      ],
      "metadata": {
        "colab": {
          "base_uri": "https://localhost:8080/"
        },
        "id": "sn4-7I60tsH5",
        "outputId": "c281fbb6-dee6-4836-df48-b455d5079e4d"
      },
      "execution_count": null,
      "outputs": [
        {
          "output_type": "stream",
          "name": "stdout",
          "text": [
            "[224, 1, 224, 2, 10, 154, 4, 5, 6, 200, 1245, 22, 44, 88]\n"
          ]
        }
      ]
    },
    {
      "cell_type": "code",
      "source": [
        "sum.extend(lang)\n",
        "print(sum)"
      ],
      "metadata": {
        "colab": {
          "base_uri": "https://localhost:8080/"
        },
        "id": "pY3tj1zWusGt",
        "outputId": "6311008f-7fc1-4dc8-82cb-3a2fc303915a"
      },
      "execution_count": null,
      "outputs": [
        {
          "output_type": "stream",
          "name": "stdout",
          "text": [
            "[224, 1, 224, 2, 10, 154, 4, 5, 6, 200, 1245, 22, 44, 88, 'c', 'c++', 1, 2, 3]\n"
          ]
        }
      ]
    },
    {
      "cell_type": "code",
      "source": [
        "#to remove a value\n",
        "sum.remove(2)\n",
        "print(sum)"
      ],
      "metadata": {
        "colab": {
          "base_uri": "https://localhost:8080/"
        },
        "id": "LIR0m8DWvoBA",
        "outputId": "da7d2e77-326a-4b01-bb15-8c5c2020b8cf"
      },
      "execution_count": null,
      "outputs": [
        {
          "output_type": "stream",
          "name": "stdout",
          "text": [
            "[10, 154, 4, 5, 6, 200, 1245, 22, 44, 88, 1, 2, 3]\n"
          ]
        }
      ]
    },
    {
      "cell_type": "code",
      "source": [
        "#to clear a list\n",
        "sum.clear()\n",
        "print(sum)"
      ],
      "metadata": {
        "colab": {
          "base_uri": "https://localhost:8080/"
        },
        "id": "tgtXRDhOwh66",
        "outputId": "2785c615-158d-4812-c855-f943d51efe0a"
      },
      "execution_count": null,
      "outputs": [
        {
          "output_type": "stream",
          "name": "stdout",
          "text": [
            "[]\n"
          ]
        }
      ]
    },
    {
      "cell_type": "code",
      "source": [
        "#creating a tuple\n",
        "car=(\"ferrari\",'mclarren','lamborgini')\n",
        "print(car)\n",
        "print(type(car))"
      ],
      "metadata": {
        "colab": {
          "base_uri": "https://localhost:8080/"
        },
        "id": "z08H35FlyAOs",
        "outputId": "9daf3c3c-1401-40bb-9a88-a7197a808a30"
      },
      "execution_count": null,
      "outputs": [
        {
          "output_type": "stream",
          "name": "stdout",
          "text": [
            "('ferrari', 'mclarren', 'lamborgini')\n",
            "<class 'tuple'>\n"
          ]
        }
      ]
    },
    {
      "cell_type": "code",
      "source": [
        "#to find the length\n",
        "print(len(car))"
      ],
      "metadata": {
        "colab": {
          "base_uri": "https://localhost:8080/"
        },
        "id": "5vBvldb-y9df",
        "outputId": "87b6f2a9-9759-4429-8143-6d37ca5ed338"
      },
      "execution_count": null,
      "outputs": [
        {
          "output_type": "stream",
          "name": "stdout",
          "text": [
            "3\n"
          ]
        }
      ]
    },
    {
      "cell_type": "code",
      "source": [
        "bike=('ninja','duke','royalenfield')\n",
        "cb=car+bike\n",
        "print(cb)"
      ],
      "metadata": {
        "colab": {
          "base_uri": "https://localhost:8080/"
        },
        "id": "qhECsOpTzMb7",
        "outputId": "82d3f45a-7160-48ff-b57b-f24d2edf0b32"
      },
      "execution_count": null,
      "outputs": [
        {
          "output_type": "stream",
          "name": "stdout",
          "text": [
            "('ferrari', 'mclarren', 'lamborgini', 'ninja', 'duke', 'royalenfield')\n"
          ]
        }
      ]
    },
    {
      "cell_type": "code",
      "source": [
        "cb.append('triumph')\n",
        "print(cb)"
      ],
      "metadata": {
        "colab": {
          "base_uri": "https://localhost:8080/",
          "height": 159
        },
        "id": "R17Ha32xzpyh",
        "outputId": "4c6ccd19-dfde-409a-c28f-cdac376ba287"
      },
      "execution_count": null,
      "outputs": [
        {
          "output_type": "error",
          "ename": "AttributeError",
          "evalue": "'tuple' object has no attribute 'append'",
          "traceback": [
            "\u001b[0;31m---------------------------------------------------------------------------\u001b[0m",
            "\u001b[0;31mAttributeError\u001b[0m                            Traceback (most recent call last)",
            "\u001b[0;32m<ipython-input-48-8f4583571e56>\u001b[0m in \u001b[0;36m<cell line: 1>\u001b[0;34m()\u001b[0m\n\u001b[0;32m----> 1\u001b[0;31m \u001b[0mcb\u001b[0m\u001b[0;34m.\u001b[0m\u001b[0mappend\u001b[0m\u001b[0;34m(\u001b[0m\u001b[0;34m'triumph'\u001b[0m\u001b[0;34m)\u001b[0m\u001b[0;34m\u001b[0m\u001b[0;34m\u001b[0m\u001b[0m\n\u001b[0m\u001b[1;32m      2\u001b[0m \u001b[0mprint\u001b[0m\u001b[0;34m(\u001b[0m\u001b[0mcb\u001b[0m\u001b[0;34m)\u001b[0m\u001b[0;34m\u001b[0m\u001b[0;34m\u001b[0m\u001b[0m\n",
            "\u001b[0;31mAttributeError\u001b[0m: 'tuple' object has no attribute 'append'"
          ]
        }
      ]
    },
    {
      "cell_type": "code",
      "source": [
        "#creating a set\n",
        "setA={\"bannana\",\"minions\",\"guru\",\"despicable\"}\n",
        "print(setA)"
      ],
      "metadata": {
        "colab": {
          "base_uri": "https://localhost:8080/"
        },
        "id": "ndpNpMDY0vbg",
        "outputId": "ad025b4f-607d-4a8c-8a5d-3ec11553758d"
      },
      "execution_count": null,
      "outputs": [
        {
          "output_type": "stream",
          "name": "stdout",
          "text": [
            "{'despicable', 'minions', 'bannana', 'guru'}\n"
          ]
        }
      ]
    },
    {
      "cell_type": "code",
      "source": [
        "print(setA[1])"
      ],
      "metadata": {
        "colab": {
          "base_uri": "https://localhost:8080/",
          "height": 141
        },
        "id": "QO3XjzAh2BOi",
        "outputId": "f595a805-a0c3-42e8-d2c2-d46ea0dda041"
      },
      "execution_count": null,
      "outputs": [
        {
          "output_type": "error",
          "ename": "TypeError",
          "evalue": "'set' object is not subscriptable",
          "traceback": [
            "\u001b[0;31m---------------------------------------------------------------------------\u001b[0m",
            "\u001b[0;31mTypeError\u001b[0m                                 Traceback (most recent call last)",
            "\u001b[0;32m<ipython-input-58-a889cf536d75>\u001b[0m in \u001b[0;36m<cell line: 1>\u001b[0;34m()\u001b[0m\n\u001b[0;32m----> 1\u001b[0;31m \u001b[0mprint\u001b[0m\u001b[0;34m(\u001b[0m\u001b[0msetA\u001b[0m\u001b[0;34m[\u001b[0m\u001b[0;36m1\u001b[0m\u001b[0;34m]\u001b[0m\u001b[0;34m)\u001b[0m\u001b[0;34m\u001b[0m\u001b[0;34m\u001b[0m\u001b[0m\n\u001b[0m",
            "\u001b[0;31mTypeError\u001b[0m: 'set' object is not subscriptable"
          ]
        }
      ]
    },
    {
      "cell_type": "code",
      "source": [
        "print(len(setA))"
      ],
      "metadata": {
        "colab": {
          "base_uri": "https://localhost:8080/"
        },
        "id": "Srn0bm0C3dno",
        "outputId": "e8c7aa5e-f0fe-4829-e530-7512b5a2d096"
      },
      "execution_count": null,
      "outputs": [
        {
          "output_type": "stream",
          "name": "stdout",
          "text": [
            "4\n"
          ]
        }
      ]
    },
    {
      "cell_type": "code",
      "source": [
        "print(\"bannana\" in setA)\n"
      ],
      "metadata": {
        "colab": {
          "base_uri": "https://localhost:8080/"
        },
        "id": "dTDmrm4_32Nl",
        "outputId": "8250addb-41be-4290-de75-bce5a863d270"
      },
      "execution_count": null,
      "outputs": [
        {
          "output_type": "stream",
          "name": "stdout",
          "text": [
            "True\n"
          ]
        }
      ]
    },
    {
      "cell_type": "code",
      "source": [
        "print(\"tomato\" in setA)"
      ],
      "metadata": {
        "colab": {
          "base_uri": "https://localhost:8080/"
        },
        "id": "Ia2-c5b44Hxc",
        "outputId": "32e0d29c-9d0b-4d18-8354-0ad3d121733a"
      },
      "execution_count": null,
      "outputs": [
        {
          "output_type": "stream",
          "name": "stdout",
          "text": [
            "False\n"
          ]
        }
      ]
    },
    {
      "cell_type": "code",
      "source": [
        "setA.add(\"Nefario\")\n",
        "print(setA)"
      ],
      "metadata": {
        "colab": {
          "base_uri": "https://localhost:8080/"
        },
        "id": "u8Lmc40o4PvM",
        "outputId": "859312b4-6d7c-465f-d325-e02de1b78488"
      },
      "execution_count": null,
      "outputs": [
        {
          "output_type": "stream",
          "name": "stdout",
          "text": [
            "{'despicable', 'guru', 'Nefario', 'minions', 'bannana'}\n"
          ]
        }
      ]
    },
    {
      "cell_type": "code",
      "source": [
        "setA.update([3,\"unicorn\"])\n",
        "print(setA)"
      ],
      "metadata": {
        "colab": {
          "base_uri": "https://localhost:8080/"
        },
        "id": "kE6ZTEfC4x18",
        "outputId": "af16e534-0f0d-418b-914d-d36f853dd993"
      },
      "execution_count": null,
      "outputs": [
        {
          "output_type": "stream",
          "name": "stdout",
          "text": [
            "{'despicable', 3, 'guru', 'Nefario', 'unicorn', 'minions', 'bannana'}\n"
          ]
        }
      ]
    },
    {
      "cell_type": "code",
      "source": [
        "#adding two numbers\n",
        "a=5\n",
        "b=10\n",
        "sum=a+b\n",
        "print(sum)"
      ],
      "metadata": {
        "colab": {
          "base_uri": "https://localhost:8080/"
        },
        "id": "o5lnrv7FJIos",
        "outputId": "6c95e938-8a35-4879-d84d-bf2a0b495883"
      },
      "execution_count": null,
      "outputs": [
        {
          "output_type": "stream",
          "name": "stdout",
          "text": [
            "15\n"
          ]
        }
      ]
    },
    {
      "cell_type": "code",
      "source": [
        "a= int(input(\"enter first number:\"))\n",
        "b= int(input(\"Enter second number\"))\n",
        "sum= (a+b)\n",
        "print(\"sum is : \",sum)"
      ],
      "metadata": {
        "colab": {
          "base_uri": "https://localhost:8080/"
        },
        "id": "hXiVIGKTOazs",
        "outputId": "3a9c8c03-4921-401a-a1c2-ab41ea6b65c2"
      },
      "execution_count": null,
      "outputs": [
        {
          "output_type": "stream",
          "name": "stdout",
          "text": [
            "enter first number:5\n",
            "Enter second number7\n",
            "sum is :  12\n"
          ]
        }
      ]
    },
    {
      "cell_type": "code",
      "source": [
        "a= int(input(\"Enter the First Number: \"))\n",
        "b= int(input(\"Enter the Second Number: \"))\n",
        "total= a*b\n",
        "print(\"The Final Answer is :   \",total)"
      ],
      "metadata": {
        "colab": {
          "base_uri": "https://localhost:8080/"
        },
        "id": "Uj5ghyXPSUmq",
        "outputId": "39863ff0-48e6-47c7-e334-a16c0e6de067"
      },
      "execution_count": null,
      "outputs": [
        {
          "output_type": "stream",
          "name": "stdout",
          "text": [
            "Enter the First Number: 5\n",
            "Enter the Second Number: 5\n",
            "The Final Answer is :    25\n"
          ]
        }
      ]
    },
    {
      "cell_type": "code",
      "source": [
        "a= int(input(\"Enter the First Number: \"))\n",
        "b= int(input(\"Enter the Second Number: \"))\n",
        "total= a/b\n",
        "print(\"The Final Answer is :   \",total)"
      ],
      "metadata": {
        "colab": {
          "base_uri": "https://localhost:8080/",
          "height": 228
        },
        "id": "ro6BPlQ2UTDw",
        "outputId": "94deba44-6919-445f-8137-cd9b1c88acd3"
      },
      "execution_count": null,
      "outputs": [
        {
          "name": "stdout",
          "output_type": "stream",
          "text": [
            "Enter the First Number: 5\n",
            "Enter the Second Number: 0\n"
          ]
        },
        {
          "output_type": "error",
          "ename": "ZeroDivisionError",
          "evalue": "division by zero",
          "traceback": [
            "\u001b[0;31m---------------------------------------------------------------------------\u001b[0m",
            "\u001b[0;31mZeroDivisionError\u001b[0m                         Traceback (most recent call last)",
            "\u001b[0;32m<ipython-input-5-7fe80847c7aa>\u001b[0m in \u001b[0;36m<cell line: 3>\u001b[0;34m()\u001b[0m\n\u001b[1;32m      1\u001b[0m \u001b[0ma\u001b[0m\u001b[0;34m=\u001b[0m \u001b[0mint\u001b[0m\u001b[0;34m(\u001b[0m\u001b[0minput\u001b[0m\u001b[0;34m(\u001b[0m\u001b[0;34m\"Enter the First Number: \"\u001b[0m\u001b[0;34m)\u001b[0m\u001b[0;34m)\u001b[0m\u001b[0;34m\u001b[0m\u001b[0;34m\u001b[0m\u001b[0m\n\u001b[1;32m      2\u001b[0m \u001b[0mb\u001b[0m\u001b[0;34m=\u001b[0m \u001b[0mint\u001b[0m\u001b[0;34m(\u001b[0m\u001b[0minput\u001b[0m\u001b[0;34m(\u001b[0m\u001b[0;34m\"Enter the Second Number: \"\u001b[0m\u001b[0;34m)\u001b[0m\u001b[0;34m)\u001b[0m\u001b[0;34m\u001b[0m\u001b[0;34m\u001b[0m\u001b[0m\n\u001b[0;32m----> 3\u001b[0;31m \u001b[0mtotal\u001b[0m\u001b[0;34m=\u001b[0m \u001b[0ma\u001b[0m\u001b[0;34m/\u001b[0m\u001b[0mb\u001b[0m\u001b[0;34m\u001b[0m\u001b[0;34m\u001b[0m\u001b[0m\n\u001b[0m\u001b[1;32m      4\u001b[0m \u001b[0mprint\u001b[0m\u001b[0;34m(\u001b[0m\u001b[0;34m\"The Final Answer is :   \"\u001b[0m\u001b[0;34m,\u001b[0m\u001b[0mtotal\u001b[0m\u001b[0;34m)\u001b[0m\u001b[0;34m\u001b[0m\u001b[0;34m\u001b[0m\u001b[0m\n",
            "\u001b[0;31mZeroDivisionError\u001b[0m: division by zero"
          ]
        }
      ]
    },
    {
      "cell_type": "code",
      "source": [
        "a= int(input(\"Enter the First Number: \"))\n",
        "b= int(input(\"Enter the Second Number: \"))\n",
        "total= a-b\n",
        "print(\"The Final Answer is :   \",total)"
      ],
      "metadata": {
        "id": "anygaCXKUjGl",
        "outputId": "9732c43d-1fd4-47f2-a8f0-9be4511ec315",
        "colab": {
          "base_uri": "https://localhost:8080/"
        }
      },
      "execution_count": null,
      "outputs": [
        {
          "output_type": "stream",
          "name": "stdout",
          "text": [
            "Enter the First Number: 5\n",
            "Enter the Second Number: 8\n",
            "The Final Answer is :    -3\n"
          ]
        }
      ]
    },
    {
      "cell_type": "code",
      "source": [
        "#to create a set\n",
        "set1= {\"tomato\",\"carrot\",\"cabbage\"}\n",
        "print(set1)"
      ],
      "metadata": {
        "colab": {
          "base_uri": "https://localhost:8080/"
        },
        "id": "aZAMIGjyOHTn",
        "outputId": "d24a1870-7119-4b68-bcd5-8cd899a17c0c"
      },
      "execution_count": null,
      "outputs": [
        {
          "output_type": "stream",
          "name": "stdout",
          "text": [
            "{'tomato', 'carrot', 'cabbage'}\n"
          ]
        }
      ]
    },
    {
      "cell_type": "code",
      "source": [
        "#using remove method for set\n",
        "set1.remove(\"carrot\")\n",
        "print(set1)"
      ],
      "metadata": {
        "colab": {
          "base_uri": "https://localhost:8080/",
          "height": 176
        },
        "id": "DhkEKrxkOvPG",
        "outputId": "4cf98c38-0028-48ad-b045-9d795b6e61f7"
      },
      "execution_count": null,
      "outputs": [
        {
          "output_type": "error",
          "ename": "KeyError",
          "evalue": "'carrot'",
          "traceback": [
            "\u001b[0;31m---------------------------------------------------------------------------\u001b[0m",
            "\u001b[0;31mKeyError\u001b[0m                                  Traceback (most recent call last)",
            "\u001b[0;32m<ipython-input-6-6fc5d6735803>\u001b[0m in \u001b[0;36m<cell line: 2>\u001b[0;34m()\u001b[0m\n\u001b[1;32m      1\u001b[0m \u001b[0;31m#using remove method for set\u001b[0m\u001b[0;34m\u001b[0m\u001b[0;34m\u001b[0m\u001b[0m\n\u001b[0;32m----> 2\u001b[0;31m \u001b[0mset1\u001b[0m\u001b[0;34m.\u001b[0m\u001b[0mremove\u001b[0m\u001b[0;34m(\u001b[0m\u001b[0;34m\"carrot\"\u001b[0m\u001b[0;34m)\u001b[0m\u001b[0;34m\u001b[0m\u001b[0;34m\u001b[0m\u001b[0m\n\u001b[0m\u001b[1;32m      3\u001b[0m \u001b[0mprint\u001b[0m\u001b[0;34m(\u001b[0m\u001b[0mset1\u001b[0m\u001b[0;34m)\u001b[0m\u001b[0;34m\u001b[0m\u001b[0;34m\u001b[0m\u001b[0m\n",
            "\u001b[0;31mKeyError\u001b[0m: 'carrot'"
          ]
        }
      ]
    },
    {
      "cell_type": "code",
      "source": [
        "#using discard method\n",
        "set1.discard(\"tomato\")\n",
        "print(set1)"
      ],
      "metadata": {
        "colab": {
          "base_uri": "https://localhost:8080/"
        },
        "id": "erHzOwpWPOj7",
        "outputId": "646f8091-f782-43e7-ba62-c66dc942fd8c"
      },
      "execution_count": null,
      "outputs": [
        {
          "output_type": "stream",
          "name": "stdout",
          "text": [
            "{'cabbage'}\n"
          ]
        }
      ]
    },
    {
      "cell_type": "code",
      "source": [
        "#to join or union two sets\n",
        "num1={1,2,3}\n",
        "num2={3,4,5,6}\n",
        "c=num1.union(num2)\n",
        "print(c)\n"
      ],
      "metadata": {
        "colab": {
          "base_uri": "https://localhost:8080/"
        },
        "id": "qPDpaQTGQcKi",
        "outputId": "26b0bbd5-92a8-4c28-836f-9d751948394d"
      },
      "execution_count": null,
      "outputs": [
        {
          "output_type": "stream",
          "name": "stdout",
          "text": [
            "{1, 2, 3, 4, 5, 6}\n"
          ]
        }
      ]
    },
    {
      "cell_type": "code",
      "source": [
        "#using difference functions 1st way\n",
        "a={1,2,3}\n",
        "b={3,4,5,6}\n",
        "c=a-b\n",
        "print(c)\n",
        "d=a.difference(b)\n",
        "print(d)\n"
      ],
      "metadata": {
        "colab": {
          "base_uri": "https://localhost:8080/"
        },
        "id": "eLFXqoRiRfSK",
        "outputId": "23239670-7170-46a7-9bf8-c3766b046a19"
      },
      "execution_count": null,
      "outputs": [
        {
          "output_type": "stream",
          "name": "stdout",
          "text": [
            "{1, 2}\n",
            "{1, 2}\n"
          ]
        }
      ]
    },
    {
      "cell_type": "code",
      "source": [
        "# interesection using &\n",
        "interesection= a & b\n",
        "print(\"Intersection using & operator is : \",interesection)"
      ],
      "metadata": {
        "colab": {
          "base_uri": "https://localhost:8080/"
        },
        "id": "32D6sfmfUYbT",
        "outputId": "ec383b8b-bff2-47ca-f123-cec3512f0191"
      },
      "execution_count": null,
      "outputs": [
        {
          "output_type": "stream",
          "name": "stdout",
          "text": [
            "Intersection using & operator is :  {3}\n"
          ]
        }
      ]
    },
    {
      "cell_type": "code",
      "source": [
        "#intersection using intersection method\n",
        "inter = a.intersection(b)\n",
        "print(\"Intersection using method is : \",inter)"
      ],
      "metadata": {
        "colab": {
          "base_uri": "https://localhost:8080/"
        },
        "id": "5e_HB2E7VAMR",
        "outputId": "f64f5177-955c-4b49-c5ec-649235f72667"
      },
      "execution_count": null,
      "outputs": [
        {
          "output_type": "stream",
          "name": "stdout",
          "text": [
            "Intersection using method is :  {3}\n"
          ]
        }
      ]
    },
    {
      "cell_type": "code",
      "source": [
        "# to clear a set\n",
        "d.clear()\n",
        "print(d)"
      ],
      "metadata": {
        "colab": {
          "base_uri": "https://localhost:8080/"
        },
        "id": "ZpbNSB1TVcwa",
        "outputId": "8282bade-fb92-41cc-a764-3d4fd1430181"
      },
      "execution_count": null,
      "outputs": [
        {
          "output_type": "stream",
          "name": "stdout",
          "text": [
            "set()\n"
          ]
        }
      ]
    },
    {
      "cell_type": "code",
      "source": [
        "#to delete the set\n",
        "del d\n",
        "print(d)"
      ],
      "metadata": {
        "colab": {
          "base_uri": "https://localhost:8080/",
          "height": 176
        },
        "id": "ywzNNAqEVuVf",
        "outputId": "3c09bf3c-d37e-4833-d018-8f267c8758fc"
      },
      "execution_count": null,
      "outputs": [
        {
          "output_type": "error",
          "ename": "NameError",
          "evalue": "name 'd' is not defined",
          "traceback": [
            "\u001b[0;31m---------------------------------------------------------------------------\u001b[0m",
            "\u001b[0;31mNameError\u001b[0m                                 Traceback (most recent call last)",
            "\u001b[0;32m<ipython-input-20-1b879f226b68>\u001b[0m in \u001b[0;36m<cell line: 3>\u001b[0;34m()\u001b[0m\n\u001b[1;32m      1\u001b[0m \u001b[0;31m#to delete the set\u001b[0m\u001b[0;34m\u001b[0m\u001b[0;34m\u001b[0m\u001b[0m\n\u001b[1;32m      2\u001b[0m \u001b[0;32mdel\u001b[0m \u001b[0md\u001b[0m\u001b[0;34m\u001b[0m\u001b[0;34m\u001b[0m\u001b[0m\n\u001b[0;32m----> 3\u001b[0;31m \u001b[0mprint\u001b[0m\u001b[0;34m(\u001b[0m\u001b[0md\u001b[0m\u001b[0;34m)\u001b[0m\u001b[0;34m\u001b[0m\u001b[0;34m\u001b[0m\u001b[0m\n\u001b[0m",
            "\u001b[0;31mNameError\u001b[0m: name 'd' is not defined"
          ]
        }
      ]
    },
    {
      "cell_type": "code",
      "source": [
        "num1 = {1,2,3,4,6,8}\n",
        "num2 = {4,5,6,7,9,2}\n",
        "num1.remove(8)\n",
        "print(num1)"
      ],
      "metadata": {
        "colab": {
          "base_uri": "https://localhost:8080/"
        },
        "id": "LHaJ2KDCV9OO",
        "outputId": "2c6e94f1-fa46-4800-dd50-aadb2cbd0987"
      },
      "execution_count": null,
      "outputs": [
        {
          "output_type": "stream",
          "name": "stdout",
          "text": [
            "{1, 2, 3, 4, 6}\n"
          ]
        }
      ]
    },
    {
      "cell_type": "code",
      "source": [
        "num2.discard(7)\n",
        "print(num2)"
      ],
      "metadata": {
        "colab": {
          "base_uri": "https://localhost:8080/"
        },
        "id": "20oYEyTFXpBa",
        "outputId": "e0bcedbe-50a8-44b2-85da-bd23b037e9c1"
      },
      "execution_count": null,
      "outputs": [
        {
          "output_type": "stream",
          "name": "stdout",
          "text": [
            "{2, 4, 5, 6, 9}\n"
          ]
        }
      ]
    },
    {
      "cell_type": "code",
      "source": [
        "c=num1.union(num2)\n",
        "print(c)"
      ],
      "metadata": {
        "colab": {
          "base_uri": "https://localhost:8080/"
        },
        "id": "EYXM-H0iX0f4",
        "outputId": "3e197553-7938-4232-edb9-a59382758f7d"
      },
      "execution_count": null,
      "outputs": [
        {
          "output_type": "stream",
          "name": "stdout",
          "text": [
            "{1, 2, 3, 4, 5, 6, 9}\n"
          ]
        }
      ]
    },
    {
      "cell_type": "code",
      "source": [
        "d=num1-num2\n",
        "print(d)"
      ],
      "metadata": {
        "colab": {
          "base_uri": "https://localhost:8080/"
        },
        "id": "obluwlBEYP8y",
        "outputId": "3f20635b-d088-4d69-ce56-5337740b5b5c"
      },
      "execution_count": null,
      "outputs": [
        {
          "output_type": "stream",
          "name": "stdout",
          "text": [
            "{1, 3}\n"
          ]
        }
      ]
    },
    {
      "cell_type": "code",
      "source": [
        "e=num1.difference(num2)\n",
        "print(e)"
      ],
      "metadata": {
        "colab": {
          "base_uri": "https://localhost:8080/"
        },
        "id": "t9oAwDP7Ydcl",
        "outputId": "2e8b7df3-bae2-45a8-fd40-a246d3dd39c8"
      },
      "execution_count": null,
      "outputs": [
        {
          "output_type": "stream",
          "name": "stdout",
          "text": [
            "{1, 3}\n"
          ]
        }
      ]
    },
    {
      "cell_type": "code",
      "source": [
        "f=num1 & num2\n",
        "print(f)"
      ],
      "metadata": {
        "colab": {
          "base_uri": "https://localhost:8080/"
        },
        "id": "dCR_o90XZVQ1",
        "outputId": "e42c86c7-9f80-4f73-e846-17a32a6bf062"
      },
      "execution_count": null,
      "outputs": [
        {
          "output_type": "stream",
          "name": "stdout",
          "text": [
            "{2, 4, 6}\n"
          ]
        }
      ]
    },
    {
      "cell_type": "code",
      "source": [
        "g= num1.intersection(num2)\n",
        "print(g)"
      ],
      "metadata": {
        "colab": {
          "base_uri": "https://localhost:8080/"
        },
        "id": "djZVsh5LZcw4",
        "outputId": "5c37d34d-682e-4818-fd8e-6a556f06124c"
      },
      "execution_count": null,
      "outputs": [
        {
          "output_type": "stream",
          "name": "stdout",
          "text": [
            "{2, 4, 6}\n"
          ]
        }
      ]
    },
    {
      "cell_type": "code",
      "source": [
        "g.update([10])\n",
        "print(g)"
      ],
      "metadata": {
        "colab": {
          "base_uri": "https://localhost:8080/"
        },
        "id": "MC0EtO7-aDI1",
        "outputId": "fade3eff-285c-4ea8-e953-5e911efad05a"
      },
      "execution_count": null,
      "outputs": [
        {
          "output_type": "stream",
          "name": "stdout",
          "text": [
            "{2, 10, 4, 6}\n"
          ]
        }
      ]
    },
    {
      "cell_type": "code",
      "source": [
        "# creating a dictionary\n",
        "dic1 = {\"Name\":\"riyas\",\n",
        "        \"email\":\"rys@gmail.com\",\n",
        "        \"phone\": 12345}\n",
        "print(dic1)"
      ],
      "metadata": {
        "colab": {
          "base_uri": "https://localhost:8080/"
        },
        "id": "5j0lvYgNatOT",
        "outputId": "21a81da9-176c-4aba-ddab-0944756167fb"
      },
      "execution_count": null,
      "outputs": [
        {
          "output_type": "stream",
          "name": "stdout",
          "text": [
            "{'Name': 'riyas', 'email': 'rys@gmail.com', 'phone': 12345}\n"
          ]
        }
      ]
    },
    {
      "cell_type": "code",
      "source": [
        "#to access a particular value\n",
        "a= dic1[\"Name\"]\n",
        "print(a)"
      ],
      "metadata": {
        "colab": {
          "base_uri": "https://localhost:8080/"
        },
        "id": "PZHSDuBmcFFC",
        "outputId": "19299c5c-5544-4332-cfdc-e254f67362c7"
      },
      "execution_count": null,
      "outputs": [
        {
          "output_type": "stream",
          "name": "stdout",
          "text": [
            "riyas\n"
          ]
        }
      ]
    },
    {
      "cell_type": "code",
      "source": [
        "a=dic1.get(\"email\")\n",
        "print(a)"
      ],
      "metadata": {
        "colab": {
          "base_uri": "https://localhost:8080/"
        },
        "id": "pch22gDncpzL",
        "outputId": "c4178865-d1e6-48ad-8481-3407b3587154"
      },
      "execution_count": null,
      "outputs": [
        {
          "output_type": "stream",
          "name": "stdout",
          "text": [
            "rys@gmail.com\n"
          ]
        }
      ]
    },
    {
      "cell_type": "code",
      "source": [
        "dic1[\"Name\"]=\"ansar\"\n",
        "print(dic1)"
      ],
      "metadata": {
        "colab": {
          "base_uri": "https://localhost:8080/"
        },
        "id": "Omsjw4zAdgKI",
        "outputId": "4aba04ec-391f-45a7-8a7d-de42de646cfc"
      },
      "execution_count": null,
      "outputs": [
        {
          "output_type": "stream",
          "name": "stdout",
          "text": [
            "{'Name': 'ansar', 'email': 'rys@gmail.com', 'phone': 12345, 'name': 'ansar'}\n"
          ]
        }
      ]
    },
    {
      "cell_type": "code",
      "source": [
        "#to add a new key\n",
        "dic1[\"age\"]=19\n",
        "print(dic1)"
      ],
      "metadata": {
        "colab": {
          "base_uri": "https://localhost:8080/"
        },
        "id": "X83vPk3teFM9",
        "outputId": "0846d178-1d34-4fc7-91b8-9ad6a4a1b08c"
      },
      "execution_count": null,
      "outputs": [
        {
          "output_type": "stream",
          "name": "stdout",
          "text": [
            "{'Name': 'ansar', 'email': 'rys@gmail.com', 'phone': 12345, 'name': 'ansar', 'age': 19}\n"
          ]
        }
      ]
    },
    {
      "cell_type": "code",
      "source": [
        "dic2=dic1.copy()\n",
        "print(dic2)"
      ],
      "metadata": {
        "colab": {
          "base_uri": "https://localhost:8080/"
        },
        "id": "GegjGLi3ep5G",
        "outputId": "977997a4-3593-4479-b21f-09e63b5a670b"
      },
      "execution_count": null,
      "outputs": [
        {
          "output_type": "stream",
          "name": "stdout",
          "text": [
            "{'Name': 'ansar', 'email': 'rys@gmail.com', 'phone': 12345, 'name': 'ansar', 'age': 19}\n"
          ]
        }
      ]
    },
    {
      "cell_type": "code",
      "source": [
        "dic2.pop(\"email\")\n",
        "print(dic2)"
      ],
      "metadata": {
        "colab": {
          "base_uri": "https://localhost:8080/"
        },
        "id": "-lw5iIjYe-4z",
        "outputId": "017ed334-43e8-4ab0-834b-093fce903d49"
      },
      "execution_count": null,
      "outputs": [
        {
          "output_type": "stream",
          "name": "stdout",
          "text": [
            "{'Name': 'ansar', 'phone': 12345, 'age': 19}\n"
          ]
        }
      ]
    },
    {
      "cell_type": "code",
      "source": [
        "del dic2[\"phone\"]\n",
        "print(dic2)"
      ],
      "metadata": {
        "colab": {
          "base_uri": "https://localhost:8080/"
        },
        "id": "_WAEzJHDgFAs",
        "outputId": "d5675364-8b9f-46af-cbe3-aba6b253d0ae"
      },
      "execution_count": null,
      "outputs": [
        {
          "output_type": "stream",
          "name": "stdout",
          "text": [
            "{'Name': 'ansar', 'age': 19}\n"
          ]
        }
      ]
    },
    {
      "cell_type": "code",
      "source": [
        "message= \"HELLO WORLD\"\n",
        "print(message)"
      ],
      "metadata": {
        "colab": {
          "base_uri": "https://localhost:8080/"
        },
        "id": "pHL63aZ0hepd",
        "outputId": "9f286a24-0fd3-42f8-bc63-21702505cab0"
      },
      "execution_count": null,
      "outputs": [
        {
          "output_type": "stream",
          "name": "stdout",
          "text": [
            "HELLO WORLD\n"
          ]
        }
      ]
    },
    {
      "cell_type": "code",
      "source": [
        "print(message[6])"
      ],
      "metadata": {
        "colab": {
          "base_uri": "https://localhost:8080/"
        },
        "id": "J-X2AHtth5_J",
        "outputId": "057347da-c161-43b7-dc5c-9c5b0757ad2d"
      },
      "execution_count": null,
      "outputs": [
        {
          "output_type": "stream",
          "name": "stdout",
          "text": [
            "W\n"
          ]
        }
      ]
    },
    {
      "cell_type": "code",
      "source": [
        "#slicing\n",
        "print(message[0:7])"
      ],
      "metadata": {
        "colab": {
          "base_uri": "https://localhost:8080/"
        },
        "id": "5RAAV_L3ifm6",
        "outputId": "bc8d68f4-ad2a-4330-fbf3-696f1ce59570"
      },
      "execution_count": null,
      "outputs": [
        {
          "output_type": "stream",
          "name": "stdout",
          "text": [
            "HELLO W\n"
          ]
        }
      ]
    },
    {
      "cell_type": "code",
      "source": [
        "a= \"                helllo            \"\n",
        "print(a)\n",
        "print(a.strip())"
      ],
      "metadata": {
        "colab": {
          "base_uri": "https://localhost:8080/"
        },
        "id": "CCEMWgmskVHv",
        "outputId": "d13b15e0-db17-4fa6-99f9-5e160a85f7fa"
      },
      "execution_count": null,
      "outputs": [
        {
          "output_type": "stream",
          "name": "stdout",
          "text": [
            "                helllo            \n",
            "helllo\n"
          ]
        }
      ]
    },
    {
      "cell_type": "code",
      "source": [
        "a=\"HELLO WORLD\"\n",
        "print(a.lower())"
      ],
      "metadata": {
        "colab": {
          "base_uri": "https://localhost:8080/"
        },
        "id": "8Yw30dqtlOLv",
        "outputId": "4e3d2c89-42e2-4773-c381-4d7bcbd064c2"
      },
      "execution_count": null,
      "outputs": [
        {
          "output_type": "stream",
          "name": "stdout",
          "text": [
            "hello world\n"
          ]
        }
      ]
    },
    {
      "cell_type": "code",
      "source": [
        "a=\"there once was a ship that put to sea\"\n",
        "print(a.upper())"
      ],
      "metadata": {
        "colab": {
          "base_uri": "https://localhost:8080/"
        },
        "id": "snmbvsTcljop",
        "outputId": "211e2fb4-a3f3-47ba-9c75-ddd9a6408495"
      },
      "execution_count": null,
      "outputs": [
        {
          "output_type": "stream",
          "name": "stdout",
          "text": [
            "THERE ONCE WAS A SHIP THAT PUT TO SEA\n"
          ]
        }
      ]
    },
    {
      "cell_type": "code",
      "source": [],
      "metadata": {
        "id": "a-P8G6Zar8C6"
      },
      "execution_count": null,
      "outputs": []
    },
    {
      "cell_type": "code",
      "source": [
        "# to swap cases\n",
        "a= \"Once Upon A tiMe tHeRe WaS A GHosT\"\n",
        "print(a.swapcase())"
      ],
      "metadata": {
        "colab": {
          "base_uri": "https://localhost:8080/"
        },
        "id": "LSt-8rCirl9_",
        "outputId": "9b658a26-4b7f-4b8d-a80c-6933260f0e72"
      },
      "execution_count": 70,
      "outputs": [
        {
          "output_type": "stream",
          "name": "stdout",
          "text": [
            "oNCE uPON a TImE ThErE wAs a ghOSt\n"
          ]
        }
      ]
    },
    {
      "cell_type": "code",
      "source": [
        "#to replace a character\n",
        "a=\"learn python\"\n",
        "print(a.replace(\"p\",\"j\"))"
      ],
      "metadata": {
        "colab": {
          "base_uri": "https://localhost:8080/"
        },
        "id": "g2ZMvXn7sqeR",
        "outputId": "b20b4885-7b0f-43a9-ee10-e5c71acc8de7"
      },
      "execution_count": 72,
      "outputs": [
        {
          "output_type": "stream",
          "name": "stdout",
          "text": [
            "learn jython\n"
          ]
        }
      ]
    },
    {
      "cell_type": "code",
      "source": [
        "#endswith\n",
        "word=\"Hello, World\"\n",
        "result = word.endswith(\"World\")\n",
        "print(\"Ends with world :\",result)"
      ],
      "metadata": {
        "colab": {
          "base_uri": "https://localhost:8080/"
        },
        "id": "mMwoq-YytYJe",
        "outputId": "1aecc041-511f-450c-f6dc-0098b6f7974d"
      },
      "execution_count": 76,
      "outputs": [
        {
          "output_type": "stream",
          "name": "stdout",
          "text": [
            "Ends with world : True\n"
          ]
        }
      ]
    },
    {
      "cell_type": "code",
      "source": [
        "#starts with\n",
        "word= \"hello my boy\"\n",
        "result= word.startswith(\"hello\")\n",
        "print(\"starts with hello :\",result)"
      ],
      "metadata": {
        "colab": {
          "base_uri": "https://localhost:8080/"
        },
        "id": "mqmUT98UuPoo",
        "outputId": "57fa0a12-0745-49d2-e58f-c343d6992ded"
      },
      "execution_count": 75,
      "outputs": [
        {
          "output_type": "stream",
          "name": "stdout",
          "text": [
            "starts with hello : True\n"
          ]
        }
      ]
    }
  ]
}